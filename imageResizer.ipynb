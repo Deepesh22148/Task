{
 "cells": [
  {
   "cell_type": "code",
   "execution_count": 9,
   "metadata": {},
   "outputs": [
    {
     "name": "stdout",
     "output_type": "stream",
     "text": [
      "Resized home.png and saved to image\\home.png\n",
      "Resized logo.png and saved to image\\logo.png\n",
      "Skipping logo.svg. Error: cannot identify image file 'C:\\\\Users\\\\DEEPESH SAHU\\\\OneDrive\\\\Desktop\\\\electron-app\\\\Project1\\\\images\\\\logo.svg'\n",
      "Resized more.png and saved to image\\more.png\n",
      "Resized notifications.png and saved to image\\notifications.png\n",
      "Resized settings.png and saved to image\\settings.png\n",
      "Resized user.png and saved to image\\user.png\n"
     ]
    }
   ],
   "source": [
    "import os\n",
    "from PIL import Image\n",
    "\n",
    "def resize_images_in_folder(input_folder, output_folder, size=(50,70)):\n",
    "    \"\"\"\n",
    "    Resizes all images in the input folder to the specified size\n",
    "    and saves them to the output folder.\n",
    "\n",
    "    :param input_folder: Path to the folder containing images.\n",
    "    :param output_folder: Path to the folder to save resized images.\n",
    "    :param size: Tuple indicating the new size (width, height).\n",
    "    \"\"\"\n",
    "    if not os.path.exists(output_folder):\n",
    "        os.makedirs(output_folder)\n",
    "\n",
    "    for filename in os.listdir(input_folder):\n",
    "        input_path = os.path.join(input_folder, filename)\n",
    "        output_path = os.path.join(output_folder, filename)\n",
    "        \n",
    "        try:\n",
    "            # Open and resize the image\n",
    "            with Image.open(input_path) as img:\n",
    "                img_resized = img.resize(size)  # Resize with smoothing\n",
    "                img_resized.save(output_path)\n",
    "                print(f\"Resized {filename} and saved to {output_path}\")\n",
    "        except Exception as e:\n",
    "            print(f\"Skipping {filename}. Error: {e}\")\n",
    "\n",
    "# Example usage\n",
    "input_folder = \"images\"  # Replace with the path to your input folder\n",
    "output_folder = \"image\"  # Replace with the path to your output folder\n",
    "resize_images_in_folder(input_folder, output_folder)\n"
   ]
  }
 ],
 "metadata": {
  "kernelspec": {
   "display_name": "Python 3",
   "language": "python",
   "name": "python3"
  },
  "language_info": {
   "codemirror_mode": {
    "name": "ipython",
    "version": 3
   },
   "file_extension": ".py",
   "mimetype": "text/x-python",
   "name": "python",
   "nbconvert_exporter": "python",
   "pygments_lexer": "ipython3",
   "version": "3.12.3"
  }
 },
 "nbformat": 4,
 "nbformat_minor": 2
}
